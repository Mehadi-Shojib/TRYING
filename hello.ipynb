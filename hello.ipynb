{
 "cells": [
  {
   "cell_type": "code",
   "execution_count": null,
   "id": "7fb3104d",
   "metadata": {},
   "outputs": [],
   "source": [
    "import random"
   ]
  },
  {
   "cell_type": "code",
   "execution_count": null,
   "id": "ed5025d4",
   "metadata": {},
   "outputs": [],
   "source": [
    "parents=[[1, 0, 0, 1, 1, 0, 1],\n",
    " [1, 0, 0, 1, 0, 0, 1],\n",
    " [1, 1, 1, 0, 1, 1, 1],\n",
    " [1, 0, 0, 0, 0, 1, 1],\n",
    " [1, 1, 0, 1, 0, 0, 0],\n",
    " [1, 0, 0, 1, 1, 1, 0],\n",
    " [1, 0, 0, 1, 1, 1, 0],\n",
    " [1, 1, 0, 1, 0, 0, 0]]"
   ]
  },
  {
   "cell_type": "code",
   "execution_count": null,
   "id": "253e126c",
   "metadata": {
    "scrolled": true
   },
   "outputs": [],
   "source": [
    "parents\n"
   ]
  },
  {
   "cell_type": "code",
   "execution_count": null,
   "id": "eb27597f",
   "metadata": {},
   "outputs": [],
   "source": [
    "def crossover(parents):  \n",
    "    num_cross = len(parents)/2\n",
    "    #f1=[]\n",
    "    #f2=[]\n",
    "    #f3=[]\n",
    "    #f4=[]\n",
    "    #Offspring=[]\n",
    "    #off1=[]\n",
    "    #off2=[]\n",
    "    j=0\n",
    "    i=0\n",
    "    cp = random.choice(range(1,6))\n",
    "    cp\n",
    "    for in in range(len(parents))\n",
    "       \n",
    "        # perform crossover\n",
    "        f1= parents[i][:cp]\n",
    "        f2= parents[i][cp:]\n",
    "        f3= parents[j+1][:cp]\n",
    "        f4= parents[j+1][cp:]\n",
    "        Off1=f1+f4\n",
    "        off2=f3+f2\n",
    "        Offspring=[off1,off2]\n",
    "    \n",
    "        j+=1\n",
    "    # return the offsprings\n",
    "    return Offspring"
   ]
  },
  {
   "cell_type": "code",
   "execution_count": null,
   "id": "ebf55c80",
   "metadata": {},
   "outputs": [],
   "source": [
    "offs = crossover(parents)\n",
    "offs"
   ]
  },
  {
   "cell_type": "code",
   "execution_count": null,
   "id": "c502ab48",
   "metadata": {},
   "outputs": [],
   "source": []
  },
  {
   "cell_type": "code",
   "execution_count": null,
   "id": "cc4ae96a",
   "metadata": {},
   "outputs": [],
   "source": []
  }
 ],
 "metadata": {
  "kernelspec": {
   "display_name": "Python 3",
   "language": "python",
   "name": "python3"
  },
  "language_info": {
   "codemirror_mode": {
    "name": "ipython",
    "version": 3
   },
   "file_extension": ".py",
   "mimetype": "text/x-python",
   "name": "python",
   "nbconvert_exporter": "python",
   "pygments_lexer": "ipython3",
   "version": "3.8.8"
  }
 },
 "nbformat": 4,
 "nbformat_minor": 5
}
