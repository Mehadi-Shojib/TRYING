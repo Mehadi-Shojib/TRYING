{
 "cells": [
  {
   "cell_type": "markdown",
   "metadata": {},
   "source": [
    "# N Queen Attack Detection"
   ]
  },
  {
   "cell_type": "code",
   "execution_count": 5,
   "metadata": {},
   "outputs": [
    {
     "name": "stdout",
     "output_type": "stream",
     "text": [
      "Q1: 6,2\n",
      "Q2: 2,7\n",
      "Q3: 6,3\n",
      "Q4: 2,4\n",
      "Q5: 5,6\n",
      "Q6: 7,4\n",
      "Q7: 2,4\n",
      "Q8: 8,1\n",
      "[6, 2, 6, 2, 5, 7, 2, 8]\n",
      "[2, 7, 3, 4, 6, 4, 4, 1]\n"
     ]
    }
   ],
   "source": [
    "import random\n",
    "N = 8\n",
    "r = []\n",
    "c = []\n",
    "for i in range(1, N+1):\n",
    "    r.append(random.choice(range(1, N+1)))\n",
    "    c.append(random.choice(range(1, N+1)))\n",
    "    #check repetition of position\n",
    "    print('Q{}: {},{}'.format(i,r[-1],c[-1]))\n",
    "print(r)\n",
    "print(c)\n"
   ]
  },
  {
   "cell_type": "code",
   "execution_count": 6,
   "metadata": {},
   "outputs": [
    {
     "name": "stdout",
     "output_type": "stream",
     "text": [
      "row attack: row:6 column:2 and 3\n",
      "row attack: row:2 column:7 and 4\n",
      "row attack: row:2 column:7 and 4\n",
      "row attack: row:2 column:4 and 4\n"
     ]
    }
   ],
   "source": [
    "import random\n",
    "# row attack\n",
    "for i in range(0,N):\n",
    "    for j in range(i+1,N):\n",
    "        if(r[i] == r[j]):\n",
    "            print('row attack: row:{} column:{} and {}'.format(r[i],c[i],c[j]))      \n",
    "    "
   ]
  },
  {
   "cell_type": "code",
   "execution_count": 7,
   "metadata": {},
   "outputs": [
    {
     "name": "stdout",
     "output_type": "stream",
     "text": [
      "column attack: coloumn:2 row:2 and 6\n",
      "column attack: coloumn:7 row:7 and 2\n",
      "column attack: coloumn:7 row:7 and 2\n",
      "column attack: coloumn:4 row:4 and 2\n"
     ]
    }
   ],
   "source": [
    "import random\n",
    "#column attack\n",
    "for i in range(0,N):\n",
    "    for j in range(i+1,N):\n",
    "        if(r[i] == r[j]):\n",
    "            print('column attack: coloumn:{} row:{} and {}'.format(c[i],c[i],r[j]))      \n",
    "    "
   ]
  },
  {
   "cell_type": "code",
   "execution_count": 8,
   "metadata": {},
   "outputs": [
    {
     "name": "stdout",
     "output_type": "stream",
     "text": [
      "diagonal attack: diagonal:6 row:2 and coloumn2\n",
      "diagonal attack: diagonal:2 row:7 and coloumn7\n",
      "diagonal attack: diagonal:2 row:7 and coloumn7\n",
      "diagonal attack: diagonal:2 row:4 and coloumn4\n"
     ]
    }
   ],
   "source": [
    "# diagonal atack\n",
    "import random\n",
    "for i in range(0,N):\n",
    "    for j in range(i+1,N):\n",
    "        if(r[i] == r[j]):\n",
    "            print('diagonal attack: diagonal:{} row:{} and coloumn{}'.format(r[i],c[i],c[i]))      \n",
    "    "
   ]
  },
  {
   "cell_type": "code",
   "execution_count": 9,
   "metadata": {},
   "outputs": [],
   "source": [
    "# implement a method to print a state is valid or not\n",
    "# input r and c (tow lists)\n"
   ]
  },
  {
   "cell_type": "code",
   "execution_count": null,
   "metadata": {},
   "outputs": [],
   "source": []
  }
 ],
 "metadata": {
  "kernelspec": {
   "display_name": "Python 3",
   "language": "python",
   "name": "python3"
  },
  "language_info": {
   "codemirror_mode": {
    "name": "ipython",
    "version": 3
   },
   "file_extension": ".py",
   "mimetype": "text/x-python",
   "name": "python",
   "nbconvert_exporter": "python",
   "pygments_lexer": "ipython3",
   "version": "3.8.8"
  }
 },
 "nbformat": 4,
 "nbformat_minor": 4
}
