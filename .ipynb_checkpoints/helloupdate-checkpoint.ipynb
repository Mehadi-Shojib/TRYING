{
 "cells": [
  {
   "cell_type": "code",
   "execution_count": 15,
   "id": "7fb3104d",
   "metadata": {},
   "outputs": [],
   "source": [
    "import random"
   ]
  },
  {
   "cell_type": "code",
   "execution_count": 8,
   "id": "ed5025d4",
   "metadata": {},
   "outputs": [],
   "source": [
    "parents=[[1, 0, 0, 1, 1, 0, 1],\n",
    " [1, 0, 0, 1, 0, 0, 1],\n",
    " [1, 1, 1, 0, 1, 1, 1],\n",
    " [1, 0, 0, 0, 0, 1, 1],\n",
    " [1, 1, 0, 1, 0, 0, 0],\n",
    " [1, 0, 0, 1, 1, 1, 0],\n",
    " [1, 0, 0, 1, 1, 1, 0],\n",
    " [1, 1, 0, 1, 0, 0, 0]]"
   ]
  },
  {
   "cell_type": "code",
   "execution_count": 9,
   "id": "253e126c",
   "metadata": {},
   "outputs": [
    {
     "data": {
      "text/plain": [
       "[[1, 0, 0, 1, 1, 0, 1],\n",
       " [1, 0, 0, 1, 0, 0, 1],\n",
       " [1, 1, 1, 0, 1, 1, 1],\n",
       " [1, 0, 0, 0, 0, 1, 1],\n",
       " [1, 1, 0, 1, 0, 0, 0],\n",
       " [1, 0, 0, 1, 1, 1, 0],\n",
       " [1, 0, 0, 1, 1, 1, 0],\n",
       " [1, 1, 0, 1, 0, 0, 0]]"
      ]
     },
     "execution_count": 9,
     "metadata": {},
     "output_type": "execute_result"
    }
   ],
   "source": [
    "parents\n"
   ]
  },
  {
   "cell_type": "code",
   "execution_count": 47,
   "id": "eb27597f",
   "metadata": {},
   "outputs": [],
   "source": [
    "def crossover(parents):  \n",
    "    j=0\n",
    "    num_cross = len(parents)/2\n",
    "    print(num_cross)\n",
    "    # f1=parents\n",
    "    # s1=parents\n",
    "    # f2=parents\n",
    "    # s2=parents\n",
    "    Offspring=[]\n",
    "    for i in range(len(parents)):\n",
    "        cp = random.choice(range(1,7))\n",
    "        cp\n",
    "        # perform crossover\n",
    "        f1= parents[j][:cp]\n",
    "        \n",
    "        s1= parents[j][cp:]\n",
    "        Offspring=f1+s1\n",
    "        j+=1\n",
    "    # return the offsprings\n",
    "    return Offspring"
   ]
  },
  {
   "cell_type": "code",
   "execution_count": 48,
   "id": "ebf55c80",
   "metadata": {},
   "outputs": [
    {
     "name": "stdout",
     "output_type": "stream",
     "text": [
      "4.0\n"
     ]
    },
    {
     "data": {
      "text/plain": [
       "[1, 1, 0, 1, 0, 0, 0]"
      ]
     },
     "execution_count": 48,
     "metadata": {},
     "output_type": "execute_result"
    }
   ],
   "source": [
    "offs = crossover(parents)\n",
    "offs"
   ]
  },
  {
   "cell_type": "code",
   "execution_count": 53,
   "id": "b82a4b01",
   "metadata": {},
   "outputs": [],
   "source": [
    "ls=[[1, 0, 0, 1, 1, 0, 1],\n",
    " [1, 0, 0, 1, 0, 0, 1]]"
   ]
  },
  {
   "cell_type": "code",
   "execution_count": 58,
   "id": "9b401d4f",
   "metadata": {},
   "outputs": [
    {
     "data": {
      "text/plain": [
       "6"
      ]
     },
     "execution_count": 58,
     "metadata": {},
     "output_type": "execute_result"
    }
   ],
   "source": [
    "ls\n",
    "cp = random.choice(range(1,7))\n",
    "cp"
   ]
  },
  {
   "cell_type": "code",
   "execution_count": 71,
   "id": "0f1842a4",
   "metadata": {},
   "outputs": [
    {
     "data": {
      "text/plain": [
       "[1, 0, 0, 1, 1, 0]"
      ]
     },
     "execution_count": 71,
     "metadata": {},
     "output_type": "execute_result"
    }
   ],
   "source": [
    "ls1=ls[0][:cp]\n",
    "\n",
    "ls1\n"
   ]
  },
  {
   "cell_type": "code",
   "execution_count": 75,
   "id": "0066d089",
   "metadata": {},
   "outputs": [
    {
     "data": {
      "text/plain": [
       "[1]"
      ]
     },
     "execution_count": 75,
     "metadata": {},
     "output_type": "execute_result"
    }
   ],
   "source": [
    "ls1a=ls[0][cp:]\n",
    "ls1a"
   ]
  },
  {
   "cell_type": "code",
   "execution_count": 73,
   "id": "b244bda2",
   "metadata": {},
   "outputs": [
    {
     "data": {
      "text/plain": [
       "[1]"
      ]
     },
     "execution_count": 73,
     "metadata": {},
     "output_type": "execute_result"
    }
   ],
   "source": [
    "ls2=ls[1][cp:]\n",
    "ls2"
   ]
  },
  {
   "cell_type": "code",
   "execution_count": 76,
   "id": "21e8fa74",
   "metadata": {},
   "outputs": [
    {
     "data": {
      "text/plain": [
       "[1, 0, 0, 1, 0, 0]"
      ]
     },
     "execution_count": 76,
     "metadata": {},
     "output_type": "execute_result"
    }
   ],
   "source": [
    "ls2a=ls[1][:cp]\n",
    "ls2a"
   ]
  },
  {
   "cell_type": "code",
   "execution_count": 77,
   "id": "0e22234f",
   "metadata": {},
   "outputs": [
    {
     "data": {
      "text/plain": [
       "[1, 0, 0, 1, 1, 0, 1]"
      ]
     },
     "execution_count": 77,
     "metadata": {},
     "output_type": "execute_result"
    }
   ],
   "source": [
    "crs=ls1+ls2\n",
    "crs\n"
   ]
  },
  {
   "cell_type": "code",
   "execution_count": 79,
   "id": "4190f343",
   "metadata": {},
   "outputs": [
    {
     "data": {
      "text/plain": [
       "[1, 0, 0, 1, 0, 0, 1]"
      ]
     },
     "execution_count": 79,
     "metadata": {},
     "output_type": "execute_result"
    }
   ],
   "source": [
    "crsa=ls2a+ls1a\n",
    "crsa"
   ]
  },
  {
   "cell_type": "code",
   "execution_count": 82,
   "id": "fd772dfb",
   "metadata": {},
   "outputs": [
    {
     "data": {
      "text/plain": [
       "[[1, 0, 0, 1, 1, 0, 1], [1, 0, 0, 1, 0, 0, 1]]"
      ]
     },
     "execution_count": 82,
     "metadata": {},
     "output_type": "execute_result"
    }
   ],
   "source": [
    "spring = [crs,crsa]\n",
    "spring"
   ]
  },
  {
   "cell_type": "code",
   "execution_count": 99,
   "id": "736df513",
   "metadata": {},
   "outputs": [
    {
     "name": "stdout",
     "output_type": "stream",
     "text": [
      "0\n",
      "1\n",
      "2\n",
      "3\n",
      "4\n",
      "5\n",
      "6\n",
      "7\n"
     ]
    }
   ],
   "source": [
    "\n",
    "for i in range(8):\n",
    "    print(i)\n",
    "   "
   ]
  },
  {
   "cell_type": "code",
   "execution_count": 94,
   "id": "3fad4b09",
   "metadata": {},
   "outputs": [
    {
     "data": {
      "text/plain": [
       "[[1, 0, 0, 1, 1, 0, 1], [1, 0, 0, 1, 0, 0, 1]]"
      ]
     },
     "execution_count": 94,
     "metadata": {},
     "output_type": "execute_result"
    }
   ],
   "source": [
    "spring"
   ]
  },
  {
   "cell_type": "code",
   "execution_count": 97,
   "id": "c159f3ec",
   "metadata": {},
   "outputs": [
    {
     "data": {
      "text/plain": [
       "[1, 0, 0, 1, 0, 0, 1]"
      ]
     },
     "execution_count": 97,
     "metadata": {},
     "output_type": "execute_result"
    }
   ],
   "source": [
    "i=0\n",
    "spring[i+1]"
   ]
  },
  {
   "cell_type": "code",
   "execution_count": 113,
   "id": "0ab3b448",
   "metadata": {},
   "outputs": [],
   "source": [
    "f1=[]\n",
    "s1=[]\n",
    "f2=[]\n",
    "s2=[]\n",
    "Offspring=[]\n",
    "off1=[]\n",
    "off2=[]\n",
    "j=0\n",
    "#for i in range(len(parents)):\n",
    "cp = random.choice(range(1,6))\n",
    "cp\n",
    "        \n",
    " # perform crossover\n",
    "f1= parents[0][0:4]\n",
    "f2= parents[0][4:]\n",
    "s1= parents[1][:4]\n",
    "s2= parents[1][4:]\n",
    "Off1=f1+ s2\n",
    "off2=s1+f2\n",
    "Offspring=[off1,off2]"
   ]
  },
  {
   "cell_type": "code",
   "execution_count": 114,
   "id": "c470392b",
   "metadata": {},
   "outputs": [
    {
     "data": {
      "text/plain": [
       "[[], [1, 0, 0, 1, 1, 0, 1]]"
      ]
     },
     "execution_count": 114,
     "metadata": {},
     "output_type": "execute_result"
    }
   ],
   "source": [
    "Offspring"
   ]
  },
  {
   "cell_type": "code",
   "execution_count": 115,
   "id": "d1f3abef",
   "metadata": {},
   "outputs": [
    {
     "data": {
      "text/plain": [
       "[1, 0, 0, 1]"
      ]
     },
     "execution_count": 115,
     "metadata": {},
     "output_type": "execute_result"
    }
   ],
   "source": [
    "f1"
   ]
  },
  {
   "cell_type": "code",
   "execution_count": 116,
   "id": "99815546",
   "metadata": {},
   "outputs": [
    {
     "data": {
      "text/plain": [
       "[1, 0, 1]"
      ]
     },
     "execution_count": 116,
     "metadata": {},
     "output_type": "execute_result"
    }
   ],
   "source": [
    "f2"
   ]
  },
  {
   "cell_type": "code",
   "execution_count": 122,
   "id": "a69f4e17",
   "metadata": {},
   "outputs": [
    {
     "data": {
      "text/plain": [
       "[1, 0, 0, 1]"
      ]
     },
     "execution_count": 122,
     "metadata": {},
     "output_type": "execute_result"
    }
   ],
   "source": [
    "s1"
   ]
  },
  {
   "cell_type": "code",
   "execution_count": 118,
   "id": "d507a176",
   "metadata": {},
   "outputs": [
    {
     "data": {
      "text/plain": [
       "[0, 0, 1]"
      ]
     },
     "execution_count": 118,
     "metadata": {},
     "output_type": "execute_result"
    }
   ],
   "source": [
    "s2"
   ]
  },
  {
   "cell_type": "code",
   "execution_count": 124,
   "id": "f60a0b18",
   "metadata": {},
   "outputs": [],
   "source": [
    "f1.append(s2)\n",
    "f1"
   ]
  },
  {
   "cell_type": "code",
   "execution_count": null,
   "id": "71127278",
   "metadata": {},
   "outputs": [],
   "source": []
  }
 ],
 "metadata": {
  "interpreter": {
   "hash": "6ad3079347fba6c886232796fe3303bbf19f953f3d3124b34f046b97968f5626"
  },
  "kernelspec": {
   "display_name": "Python 3",
   "language": "python",
   "name": "python3"
  },
  "language_info": {
   "codemirror_mode": {
    "name": "ipython",
    "version": 3
   },
   "file_extension": ".py",
   "mimetype": "text/x-python",
   "name": "python",
   "nbconvert_exporter": "python",
   "pygments_lexer": "ipython3",
   "version": "3.8.8"
  }
 },
 "nbformat": 4,
 "nbformat_minor": 5
}
