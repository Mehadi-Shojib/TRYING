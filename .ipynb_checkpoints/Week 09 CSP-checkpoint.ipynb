{
 "cells": [
  {
   "cell_type": "code",
   "execution_count": 1,
   "metadata": {},
   "outputs": [],
   "source": [
    "# Define a new cgraph\n",
    "cgraph = {'WA': ['SA', 'NT'], \n",
    "          'Q': ['SA', 'NT', 'NSW'], \n",
    "          'T': [],\n",
    "          'V': ['SA', 'NSW'], \n",
    "          'SA': ['WA', 'NT', 'Q', 'NSW','V'], \n",
    "          'NT': ['Q', 'WA', 'SA'], \n",
    "          'NSW': ['Q', 'V', 'SA']}"
   ]
  },
  {
   "cell_type": "code",
   "execution_count": 5,
   "metadata": {},
   "outputs": [],
   "source": [
    "import random\n",
    "def get_color(node, rv, cg):\n",
    "    # CODE\n",
    "    # check rv[node] is empty or not when no color availabe\n",
    "    if not node:\n",
    "        print('Has Colors.')\n",
    "    else:\n",
    "        print('no colors.')\n",
    "    # return 'no color'\n",
    "    color = random.choice(rv[node])\n",
    "    rv.pop(node)\n",
    "    # update remaining values for neihbouring node\n",
    "    adjList = cg[node]\n",
    "    for adj in adjList:\n",
    "        if adj in rv.keys():\n",
    "            rv[adj].remove(color)\n",
    "    #print(adjList)\n",
    "    return color"
   ]
  },
  {
   "cell_type": "markdown",
   "metadata": {},
   "source": [
    "## Highest Degree Node"
   ]
  },
  {
   "cell_type": "code",
   "execution_count": 3,
   "metadata": {},
   "outputs": [],
   "source": [
    "# write a method to get the highest degree node\n",
    "def get_hdnode(cg, solved):\n",
    "    mnode = ''\n",
    "    degree = -1\n",
    "    for k in cg.keys():\n",
    "        if len(cg[k])  > degree and k not in solved.keys():\n",
    "            #print(k)\n",
    "            degree = len(cg[k])\n",
    "            mnode = k\n",
    "    return mnode"
   ]
  },
  {
   "cell_type": "markdown",
   "metadata": {},
   "source": [
    "Color the nodes using Highest degree heuristic"
   ]
  },
  {
   "cell_type": "code",
   "execution_count": 4,
   "metadata": {},
   "outputs": [
    {
     "name": "stdout",
     "output_type": "stream",
     "text": [
      "{'WA': ['R', 'B'], 'Q': ['R', 'B'], 'T': ['R', 'G', 'B'], 'V': ['R', 'B'], 'NT': ['R', 'B'], 'NSW': ['R', 'B']}\n",
      "{'SA': 'G'}\n",
      "{'WA': ['R', 'B'], 'T': ['R', 'G', 'B'], 'V': ['R', 'B'], 'NT': ['R'], 'NSW': ['R']}\n",
      "{'SA': 'G', 'Q': 'B'}\n",
      "{'WA': ['B'], 'T': ['R', 'G', 'B'], 'V': ['R', 'B'], 'NSW': ['R']}\n",
      "{'SA': 'G', 'Q': 'B', 'NT': 'R'}\n",
      "{'WA': ['B'], 'T': ['R', 'G', 'B'], 'V': ['B']}\n",
      "{'SA': 'G', 'Q': 'B', 'NT': 'R', 'NSW': 'R'}\n",
      "{'T': ['R', 'G', 'B'], 'V': ['B']}\n",
      "{'SA': 'G', 'Q': 'B', 'NT': 'R', 'NSW': 'R', 'WA': 'B'}\n",
      "{'T': ['R', 'G', 'B']}\n",
      "{'SA': 'G', 'Q': 'B', 'NT': 'R', 'NSW': 'R', 'WA': 'B', 'V': 'B'}\n",
      "{}\n",
      "{'SA': 'G', 'Q': 'B', 'NT': 'R', 'NSW': 'R', 'WA': 'B', 'V': 'B', 'T': 'B'}\n"
     ]
    }
   ],
   "source": [
    "assigned = {} # store assignes variables with colors\n",
    "remainingValues = {'WA': ['R','G','B'], \n",
    "                    'Q': ['R','G','B'],\n",
    "                    'T': ['R','G','B'],\n",
    "                    'V':  ['R','G','B'], \n",
    "                    'NT': ['R','G','B'],\n",
    "                    'SA': ['R','G','B'],                    \n",
    "                    'NSW': ['R','G','B']}\n",
    "\n",
    "for i in range(len(cgraph)):\n",
    "    # assign color to the highest degree node\n",
    "    hdNode = get_hdnode(cgraph, assigned)\n",
    "    color = get_color(hdNode, remainingValues, cgraph)\n",
    "    # CODE\n",
    "    # check if 'no color' is returned\n",
    "    # print failure\n",
    "\n",
    "    assigned[hdNode]= color\n",
    "    print(remainingValues)\n",
    "    print(assigned)"
   ]
  },
  {
   "cell_type": "markdown",
   "metadata": {},
   "source": [
    "## Minimum Remaining Value"
   ]
  },
  {
   "cell_type": "code",
   "execution_count": null,
   "metadata": {},
   "outputs": [],
   "source": [
    "# define a method to select a node by MRV\n",
    "def get_MRVnode(rv):\n",
    "    # CODE\n",
    "    #implement the logic on remainingValues list\n",
    "     #implement the logic list\n",
    "    l=7\n",
    "    mnode = ''\n",
    "    for i in cgraph.keys():\n",
    "        if ( len(cgraph[i]) < l ):\n",
    "            l = len(colorstochooselist[i])\n",
    "            node = k\n",
    "  \n",
    "    return node\n",
    "\n",
    "    "
   ]
  },
  {
   "cell_type": "code",
   "execution_count": null,
   "metadata": {},
   "outputs": [],
   "source": [
    "get_node_MRV(rv)"
   ]
  },
  {
   "cell_type": "markdown",
   "metadata": {},
   "source": [
    "Color the nodes using MRV heuristic"
   ]
  },
  {
   "cell_type": "code",
   "execution_count": 14,
   "metadata": {},
   "outputs": [
    {
     "ename": "NameError",
     "evalue": "name 'get_MRVnode' is not defined",
     "output_type": "error",
     "traceback": [
      "\u001b[1;31m---------------------------------------------------------------------------\u001b[0m",
      "\u001b[1;31mNameError\u001b[0m                                 Traceback (most recent call last)",
      "\u001b[1;32m<ipython-input-14-c83b0ab6725a>\u001b[0m in \u001b[0;36m<module>\u001b[1;34m\u001b[0m\n\u001b[0;32m     11\u001b[0m \u001b[1;32mfor\u001b[0m \u001b[0mi\u001b[0m \u001b[1;32min\u001b[0m \u001b[0mrange\u001b[0m\u001b[1;33m(\u001b[0m\u001b[0mlen\u001b[0m\u001b[1;33m(\u001b[0m\u001b[0mcgraph\u001b[0m\u001b[1;33m)\u001b[0m\u001b[1;33m)\u001b[0m\u001b[1;33m:\u001b[0m\u001b[1;33m\u001b[0m\u001b[1;33m\u001b[0m\u001b[0m\n\u001b[0;32m     12\u001b[0m     \u001b[1;31m# assign color to the highest degree node\u001b[0m\u001b[1;33m\u001b[0m\u001b[1;33m\u001b[0m\u001b[1;33m\u001b[0m\u001b[0m\n\u001b[1;32m---> 13\u001b[1;33m     \u001b[0mmrvNode\u001b[0m \u001b[1;33m=\u001b[0m \u001b[0mget_MRVnode\u001b[0m\u001b[1;33m(\u001b[0m\u001b[0mremainingValues\u001b[0m\u001b[1;33m)\u001b[0m\u001b[1;33m\u001b[0m\u001b[1;33m\u001b[0m\u001b[0m\n\u001b[0m\u001b[0;32m     14\u001b[0m     \u001b[0mcolor\u001b[0m \u001b[1;33m=\u001b[0m \u001b[0mget_color\u001b[0m\u001b[1;33m(\u001b[0m\u001b[0mmrvNode\u001b[0m\u001b[1;33m,\u001b[0m \u001b[0mremainingValues\u001b[0m\u001b[1;33m,\u001b[0m \u001b[0mcgraph\u001b[0m\u001b[1;33m)\u001b[0m\u001b[1;33m\u001b[0m\u001b[1;33m\u001b[0m\u001b[0m\n\u001b[0;32m     15\u001b[0m     \u001b[1;31m# CODE\u001b[0m\u001b[1;33m\u001b[0m\u001b[1;33m\u001b[0m\u001b[1;33m\u001b[0m\u001b[0m\n",
      "\u001b[1;31mNameError\u001b[0m: name 'get_MRVnode' is not defined"
     ]
    }
   ],
   "source": [
    "assigned = {}\n",
    "\n",
    "remainingValues = {'WA': ['R','G','B'], \n",
    "                    'Q': ['R','G','B'],\n",
    "                    'T': ['R','G','B'],\n",
    "                    'V':  ['R','G','B'], \n",
    "                    'NT': ['R','G','B'],\n",
    "                    'SA': ['R','G','B'],                    \n",
    "                    'NSW': ['R','G','B']}\n",
    "\n",
    "for i in range(len(cgraph)):\n",
    "    # assign color to the highest degree node\n",
    "    mrvNode = get_MRVnode(remainingValues)\n",
    "    color = get_color(mrvNode, remainingValues, cgraph)\n",
    "    # CODE\n",
    "    # check if 'no color' is returned\n",
    "    # print failure\n",
    "\n",
    "    assigned[hdNode]= color\n",
    "    #print(remainingValues)\n",
    "    print(assigned)"
   ]
  },
  {
   "cell_type": "code",
   "execution_count": null,
   "metadata": {},
   "outputs": [],
   "source": []
  }
 ],
 "metadata": {
  "kernelspec": {
   "display_name": "Python 3",
   "language": "python",
   "name": "python3"
  },
  "language_info": {
   "codemirror_mode": {
    "name": "ipython",
    "version": 3
   },
   "file_extension": ".py",
   "mimetype": "text/x-python",
   "name": "python",
   "nbconvert_exporter": "python",
   "pygments_lexer": "ipython3",
   "version": "3.8.8"
  }
 },
 "nbformat": 4,
 "nbformat_minor": 4
}
