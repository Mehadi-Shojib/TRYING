{
 "cells": [
  {
   "cell_type": "markdown",
   "metadata": {},
   "source": [
    "# Table driven agent"
   ]
  },
  {
   "cell_type": "code",
   "execution_count": null,
   "metadata": {},
   "outputs": [
    {
     "name": "stdout",
     "output_type": "stream",
     "text": [
      "(50, 'Moving person')\n",
      "OFF\n",
      "ON\n",
      "(0, 'No moving person')\n",
      "OFF\n",
      "0\n",
      "(0, 'No moving person')\n",
      "OFF\n",
      "23\n",
      "(0, 'Moving person')\n",
      "ON\n"
     ]
    }
   ],
   "source": [
    "# If lumen < 25 it is considered dark.\n",
    "table={(0,'Moving person'):'ON',(0,'No moving person'):'OFF',(50,'Moving person'):'OFF',(50,'No moving person'):'OFF'}\n",
    "\n",
    "percepts=[]    \n",
    "def agent(percept):\n",
    "    print(percept)\n",
    "    percepts.append(percept)\n",
    "    return lookup(percept,table)\n",
    "\n",
    "def lookup(percept,table):\n",
    "    for key in table:\n",
    "        if key == percept:\n",
    "            return table[key]\n",
    "\n",
    "import random\n",
    "Lumen = random.choice([0, 50])\n",
    "Condition = random.choice(['Moving person','No moving person'])\n",
    "\n",
    "while True:\n",
    "    action = agent((Lumen,Condition))\n",
    "    print(action)\n",
    "    cmd = input()\n",
    "    if(cmd == 'stop'): break\n",
    "    if action == 'ON':\n",
    "        Lumen = 50\n",
    "        Condition = random.choice(['Moving person','No moving person'])\n",
    "    elif action == 'OFF':\n",
    "        Lumen = 0\n",
    "        Condition = random.choice(['Moving person','No moving person'])\n",
    "    else:\n",
    "        Condition = 'No moving person'   "
   ]
  },
  {
   "cell_type": "markdown",
   "metadata": {},
   "source": [
    "# Simple reflex agent"
   ]
  },
  {
   "cell_type": "code",
   "execution_count": 5,
   "metadata": {},
   "outputs": [
    {
     "name": "stdout",
     "output_type": "stream",
     "text": [
      "(0, 'Moving person')\n",
      "ON\n",
      "OFF\n",
      "(50, 'No moving person')\n",
      "OFF\n",
      "OFF\n",
      "(0, 'No moving person')\n"
     ]
    },
    {
     "ename": "UnboundLocalError",
     "evalue": "local variable 'action' referenced before assignment",
     "output_type": "error",
     "traceback": [
      "\u001b[1;31m---------------------------------------------------------------------------\u001b[0m",
      "\u001b[1;31mUnboundLocalError\u001b[0m                         Traceback (most recent call last)",
      "\u001b[1;32m<ipython-input-5-7e6978f0bf13>\u001b[0m in \u001b[0;36m<module>\u001b[1;34m\u001b[0m\n\u001b[0;32m     13\u001b[0m \u001b[1;33m\u001b[0m\u001b[0m\n\u001b[0;32m     14\u001b[0m \u001b[1;32mwhile\u001b[0m \u001b[1;32mTrue\u001b[0m\u001b[1;33m:\u001b[0m\u001b[1;33m\u001b[0m\u001b[1;33m\u001b[0m\u001b[0m\n\u001b[1;32m---> 15\u001b[1;33m     \u001b[0maction\u001b[0m\u001b[1;33m=\u001b[0m \u001b[0msimple_reflex_agent\u001b[0m\u001b[1;33m(\u001b[0m\u001b[1;33m(\u001b[0m\u001b[0mLumen\u001b[0m\u001b[1;33m,\u001b[0m\u001b[0mCondition\u001b[0m\u001b[1;33m)\u001b[0m\u001b[1;33m)\u001b[0m\u001b[1;33m\u001b[0m\u001b[1;33m\u001b[0m\u001b[0m\n\u001b[0m\u001b[0;32m     16\u001b[0m     \u001b[0mprint\u001b[0m\u001b[1;33m(\u001b[0m\u001b[0maction\u001b[0m\u001b[1;33m)\u001b[0m\u001b[1;33m\u001b[0m\u001b[1;33m\u001b[0m\u001b[0m\n\u001b[0;32m     17\u001b[0m     \u001b[0mcmd\u001b[0m \u001b[1;33m=\u001b[0m \u001b[0minput\u001b[0m\u001b[1;33m(\u001b[0m\u001b[1;33m)\u001b[0m\u001b[1;33m\u001b[0m\u001b[1;33m\u001b[0m\u001b[0m\n",
      "\u001b[1;32m<ipython-input-5-7e6978f0bf13>\u001b[0m in \u001b[0;36msimple_reflex_agent\u001b[1;34m(percept)\u001b[0m\n\u001b[0;32m      6\u001b[0m     \u001b[1;32melse\u001b[0m\u001b[1;33m:\u001b[0m\u001b[1;33m\u001b[0m\u001b[1;33m\u001b[0m\u001b[0m\n\u001b[0;32m      7\u001b[0m         \u001b[0maction\u001b[0m \u001b[1;33m=\u001b[0m \u001b[1;34m'OFF'\u001b[0m\u001b[1;33m\u001b[0m\u001b[1;33m\u001b[0m\u001b[0m\n\u001b[1;32m----> 8\u001b[1;33m     \u001b[1;32mreturn\u001b[0m \u001b[0maction\u001b[0m\u001b[1;33m\u001b[0m\u001b[1;33m\u001b[0m\u001b[0m\n\u001b[0m\u001b[0;32m      9\u001b[0m \u001b[1;33m\u001b[0m\u001b[0m\n\u001b[0;32m     10\u001b[0m \u001b[1;32mimport\u001b[0m \u001b[0mrandom\u001b[0m\u001b[1;33m\u001b[0m\u001b[1;33m\u001b[0m\u001b[0m\n",
      "\u001b[1;31mUnboundLocalError\u001b[0m: local variable 'action' referenced before assignment"
     ]
    }
   ],
   "source": [
    "def simple_reflex_agent(percept):\n",
    "    print(percept)\n",
    "    if percept[0]== 0:\n",
    "        if percept[1] == 'Moving person':\n",
    "            action = 'ON'\n",
    "    else:\n",
    "        action = 'OFF'\n",
    "    return action\n",
    "\n",
    "import random\n",
    "Lumen = random.choice([0, 50])\n",
    "Condition = random.choice(['Moving person','No moving person'])\n",
    "\n",
    "while True:\n",
    "    action= simple_reflex_agent((Lumen,Condition))\n",
    "    print(action)\n",
    "    cmd = input()\n",
    "    if(cmd == 'stop'): break\n",
    "    if action == 'ON':\n",
    "        Lumen = 50\n",
    "        Condition = random.choice(['Moving person','No moving person'])\n",
    "    else:\n",
    "        Lumen = 0\n",
    "        Condition = random.choice(['Moving person','No moving person'])\n",
    "\n",
    "    "
   ]
  },
  {
   "cell_type": "markdown",
   "metadata": {},
   "source": [
    "# Model based agent"
   ]
  },
  {
   "cell_type": "code",
   "execution_count": 7,
   "metadata": {},
   "outputs": [
    {
     "name": "stdout",
     "output_type": "stream",
     "text": [
      "Perception: ('50', 'No moving person')\n",
      "Model: {'0': 'Unknown', '50': 'No moving person'}\n",
      "State: OFF\n",
      "Action: Nothing to do\n"
     ]
    }
   ],
   "source": [
    "model = {'0':'Unknown', '50':'Unknown'}\n",
    "state = 'OFF'\n",
    "action = 'Unknown'\n",
    "\n",
    "def update_state(percept, model):\n",
    "    global state, action\n",
    "    if percept[0]== 0:\n",
    "        if percept[1] == 'Moving person':\n",
    "            action = 'ON'\n",
    "    else:\n",
    "        action = 'OFF'\n",
    "    state = action\n",
    "    return state\n",
    "        \n",
    "\n",
    "def model_based_reflex_agent(percept):\n",
    "    global state,action,model\n",
    "    model[percept[0]]=percept[1]\n",
    "    state = update_state(percept, model)\n",
    "    print('Perception: '+str(percept)) \n",
    "    print('Model: '+str(model))   \n",
    "    print('State: '+str(state))  \n",
    "    if percept[0]== 0:\n",
    "        if percept[1] == 'Moving person':\n",
    "            action = 'ON'\n",
    "    else:\n",
    "        action = 'OFF'\n",
    "    if action == state:\n",
    "        action = 'Nothing to do'\n",
    "    return action\n",
    "\n",
    "\n",
    "import random\n",
    "Lumen = random.choice(['0', '50'])\n",
    "Condition = random.choice(['Moving person','No moving person'])\n",
    "\n",
    "while True:\n",
    "    action = model_based_reflex_agent((Lumen,Condition))\n",
    "    print('Action: '+ str(action))\n",
    "    if action == 'ON':\n",
    "        Lumen = 50\n",
    "        Condition = random.choice(['Moving person','No moving person'])\n",
    "    elif action == 'OFF':\n",
    "        Lumen = 0\n",
    "        Condition = random.choice(['Moving person','No moving person'])\n",
    "    elif action == 'Nothing to do':\n",
    "        break\n",
    "        \n",
    "\n",
    "    "
   ]
  },
  {
   "cell_type": "code",
   "execution_count": null,
   "metadata": {},
   "outputs": [],
   "source": []
  }
 ],
 "metadata": {
  "kernelspec": {
   "display_name": "Python 3",
   "language": "python",
   "name": "python3"
  },
  "language_info": {
   "codemirror_mode": {
    "name": "ipython",
    "version": 3
   },
   "file_extension": ".py",
   "mimetype": "text/x-python",
   "name": "python",
   "nbconvert_exporter": "python",
   "pygments_lexer": "ipython3",
   "version": "3.8.8"
  }
 },
 "nbformat": 4,
 "nbformat_minor": 4
}
