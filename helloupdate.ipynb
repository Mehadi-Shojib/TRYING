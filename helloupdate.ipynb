{
 "cells": [
  {
   "cell_type": "code",
   "execution_count": 1,
   "id": "7fb3104d",
   "metadata": {},
   "outputs": [],
   "source": [
    "import random"
   ]
  },
  {
   "cell_type": "code",
   "execution_count": 2,
   "id": "ed5025d4",
   "metadata": {},
   "outputs": [],
   "source": [
    "parents=[[1, 0, 0, 1, 1, 0, 1],\n",
    " [1, 0, 0, 1, 0, 0, 1],\n",
    " [1, 1, 1, 0, 1, 1, 1],\n",
    " [1, 0, 0, 0, 0, 1, 1],\n",
    " [1, 1, 0, 1, 0, 0, 0],\n",
    " [1, 0, 0, 1, 1, 1, 0],\n",
    " [1, 0, 0, 1, 1, 1, 0],\n",
    " [1, 1, 0, 1, 0, 0, 0]]"
   ]
  },
  {
   "cell_type": "code",
   "execution_count": 4,
   "id": "253e126c",
   "metadata": {},
   "outputs": [
    {
     "data": {
      "text/plain": [
       "[[1, 0, 0, 1, 1, 0, 1],\n",
       " [1, 0, 0, 1, 0, 0, 1],\n",
       " [1, 1, 1, 0, 1, 1, 1],\n",
       " [1, 0, 0, 0, 0, 1, 1],\n",
       " [1, 1, 0, 1, 0, 0, 0],\n",
       " [1, 0, 0, 1, 1, 1, 0],\n",
       " [1, 0, 0, 1, 1, 1, 0],\n",
       " [1, 1, 0, 1, 0, 0, 0]]"
      ]
     },
     "execution_count": 4,
     "metadata": {},
     "output_type": "execute_result"
    }
   ],
   "source": [
    "parents\n"
   ]
  },
  {
   "cell_type": "code",
   "execution_count": 5,
   "id": "eb27597f",
   "metadata": {},
   "outputs": [],
   "source": [
    "def crossover(parents):  \n",
    "    j=0\n",
    "    num_cross = len(parents)/2\n",
    "    print(num_cross)\n",
    "    # f1=parents\n",
    "    # s1=parents\n",
    "    # f2=parents\n",
    "    # s2=parents\n",
    "    Offspring=[]\n",
    "    for i in range(len(parents)):\n",
    "        cp = random.choice(range(1,7))\n",
    "        cp\n",
    "        # perform crossover\n",
    "        f1= parents[j][:cp]\n",
    "        \n",
    "        s1= parents[j][cp:]\n",
    "        Offspring=f1+s1\n",
    "        j+=1\n",
    "    # return the offsprings\n",
    "    return Offspring"
   ]
  },
  {
   "cell_type": "code",
   "execution_count": 6,
   "id": "ebf55c80",
   "metadata": {},
   "outputs": [
    {
     "name": "stdout",
     "output_type": "stream",
     "text": [
      "4.0\n"
     ]
    },
    {
     "data": {
      "text/plain": [
       "[1, 1, 0, 1, 0, 0, 0]"
      ]
     },
     "execution_count": 6,
     "metadata": {},
     "output_type": "execute_result"
    }
   ],
   "source": [
    "offs = crossover(parents)\n",
    "offs"
   ]
  },
  {
   "cell_type": "code",
   "execution_count": 7,
   "id": "df17e953",
   "metadata": {},
   "outputs": [],
   "source": [
    "ls=[[1, 0, 0, 1, 1, 0, 1],\n",
    " [1, 0, 0, 1, 0, 0, 1]]"
   ]
  },
  {
   "cell_type": "code",
   "execution_count": 8,
   "id": "660ed4d2",
   "metadata": {},
   "outputs": [
    {
     "data": {
      "text/plain": [
       "1"
      ]
     },
     "execution_count": 8,
     "metadata": {},
     "output_type": "execute_result"
    }
   ],
   "source": [
    "ls\n",
    "cp = random.choice(range(1,7))\n",
    "cp"
   ]
  },
  {
   "cell_type": "code",
   "execution_count": 9,
   "id": "a6aa6283",
   "metadata": {},
   "outputs": [
    {
     "data": {
      "text/plain": [
       "[1]"
      ]
     },
     "execution_count": 9,
     "metadata": {},
     "output_type": "execute_result"
    }
   ],
   "source": [
    "ls1=ls[0][:cp]\n",
    "\n",
    "ls1\n"
   ]
  },
  {
   "cell_type": "code",
   "execution_count": 10,
   "id": "089aa932",
   "metadata": {},
   "outputs": [
    {
     "data": {
      "text/plain": [
       "[0, 0, 1, 1, 0, 1]"
      ]
     },
     "execution_count": 10,
     "metadata": {},
     "output_type": "execute_result"
    }
   ],
   "source": [
    "ls1a=ls[0][cp:]\n",
    "ls1a"
   ]
  },
  {
   "cell_type": "code",
   "execution_count": 11,
   "id": "5b72e668",
   "metadata": {},
   "outputs": [
    {
     "data": {
      "text/plain": [
       "[0, 0, 1, 0, 0, 1]"
      ]
     },
     "execution_count": 11,
     "metadata": {},
     "output_type": "execute_result"
    }
   ],
   "source": [
    "ls2=ls[1][cp:]\n",
    "ls2"
   ]
  },
  {
   "cell_type": "code",
   "execution_count": 12,
   "id": "87ac887e",
   "metadata": {},
   "outputs": [
    {
     "data": {
      "text/plain": [
       "[1]"
      ]
     },
     "execution_count": 12,
     "metadata": {},
     "output_type": "execute_result"
    }
   ],
   "source": [
    "ls2a=ls[1][:cp]\n",
    "ls2a"
   ]
  },
  {
   "cell_type": "code",
   "execution_count": 13,
   "id": "da0d0749",
   "metadata": {},
   "outputs": [
    {
     "data": {
      "text/plain": [
       "[1, 0, 0, 1, 0, 0, 1]"
      ]
     },
     "execution_count": 13,
     "metadata": {},
     "output_type": "execute_result"
    }
   ],
   "source": [
    "crs=ls1+ls2\n",
    "crs\n"
   ]
  },
  {
   "cell_type": "code",
   "execution_count": 15,
   "id": "30501f34",
   "metadata": {},
   "outputs": [
    {
     "data": {
      "text/plain": [
       "[1, 0, 0, 1, 1, 0, 1]"
      ]
     },
     "execution_count": 15,
     "metadata": {},
     "output_type": "execute_result"
    }
   ],
   "source": [
    "crsa=ls2a+ls1a\n",
    "crsa"
   ]
  },
  {
   "cell_type": "code",
   "execution_count": 14,
   "id": "46500f10",
   "metadata": {},
   "outputs": [
    {
     "ename": "NameError",
     "evalue": "name 'crsa' is not defined",
     "output_type": "error",
     "traceback": [
      "\u001b[1;31m---------------------------------------------------------------------------\u001b[0m",
      "\u001b[1;31mNameError\u001b[0m                                 Traceback (most recent call last)",
      "\u001b[1;32m<ipython-input-14-cab1c6ea8547>\u001b[0m in \u001b[0;36m<module>\u001b[1;34m\u001b[0m\n\u001b[1;32m----> 1\u001b[1;33m \u001b[0mspring\u001b[0m \u001b[1;33m=\u001b[0m \u001b[1;33m[\u001b[0m\u001b[0mcrs\u001b[0m\u001b[1;33m,\u001b[0m\u001b[0mcrsa\u001b[0m\u001b[1;33m]\u001b[0m\u001b[1;33m\u001b[0m\u001b[1;33m\u001b[0m\u001b[0m\n\u001b[0m\u001b[0;32m      2\u001b[0m \u001b[0mspring\u001b[0m\u001b[1;33m\u001b[0m\u001b[1;33m\u001b[0m\u001b[0m\n",
      "\u001b[1;31mNameError\u001b[0m: name 'crsa' is not defined"
     ]
    }
   ],
   "source": [
    "spring = [crs,crsa]\n",
    "spring"
   ]
  },
  {
   "cell_type": "code",
   "execution_count": 99,
   "id": "fbc854ad",
   "metadata": {},
   "outputs": [
    {
     "name": "stdout",
     "output_type": "stream",
     "text": [
      "0\n",
      "1\n",
      "2\n",
      "3\n",
      "4\n",
      "5\n",
      "6\n",
      "7\n"
     ]
    }
   ],
   "source": [
    "\n",
    "for i in range(8):\n",
    "    print(i)\n",
    "   "
   ]
  },
  {
   "cell_type": "code",
   "execution_count": 94,
   "id": "d13987b0",
   "metadata": {},
   "outputs": [
    {
     "data": {
      "text/plain": [
       "[[1, 0, 0, 1, 1, 0, 1], [1, 0, 0, 1, 0, 0, 1]]"
      ]
     },
     "execution_count": 94,
     "metadata": {},
     "output_type": "execute_result"
    }
   ],
   "source": [
    "spring"
   ]
  },
  {
   "cell_type": "code",
   "execution_count": 97,
   "id": "b990f089",
   "metadata": {},
   "outputs": [
    {
     "data": {
      "text/plain": [
       "[1, 0, 0, 1, 0, 0, 1]"
      ]
     },
     "execution_count": 97,
     "metadata": {},
     "output_type": "execute_result"
    }
   ],
   "source": [
    "i=0\n",
    "spring[i+1]"
   ]
  },
  {
   "cell_type": "code",
   "execution_count": 113,
   "id": "ab59acd2",
   "metadata": {},
   "outputs": [],
   "source": [
    "f1=[]\n",
    "s1=[]\n",
    "f2=[]\n",
    "s2=[]\n",
    "Offspring=[]\n",
    "off1=[]\n",
    "off2=[]\n",
    "j=0\n",
    "#for i in range(len(parents)):\n",
    "cp = random.choice(range(1,6))\n",
    "cp\n",
    "        \n",
    " # perform crossover\n",
    "f1= parents[0][0:4]\n",
    "f2= parents[0][4:]\n",
    "s1= parents[1][:4]\n",
    "s2= parents[1][4:]\n",
    "Off1=f1+ s2\n",
    "off2=s1+f2\n",
    "Offspring=[off1,off2]"
   ]
  },
  {
   "cell_type": "code",
   "execution_count": 114,
   "id": "35fcdd91",
   "metadata": {},
   "outputs": [
    {
     "data": {
      "text/plain": [
       "[[], [1, 0, 0, 1, 1, 0, 1]]"
      ]
     },
     "execution_count": 114,
     "metadata": {},
     "output_type": "execute_result"
    }
   ],
   "source": [
    "Offspring"
   ]
  },
  {
   "cell_type": "code",
   "execution_count": 115,
   "id": "9f01abef",
   "metadata": {},
   "outputs": [
    {
     "data": {
      "text/plain": [
       "[1, 0, 0, 1]"
      ]
     },
     "execution_count": 115,
     "metadata": {},
     "output_type": "execute_result"
    }
   ],
   "source": [
    "f1"
   ]
  },
  {
   "cell_type": "code",
   "execution_count": 116,
   "id": "d0de7511",
   "metadata": {},
   "outputs": [
    {
     "data": {
      "text/plain": [
       "[1, 0, 1]"
      ]
     },
     "execution_count": 116,
     "metadata": {},
     "output_type": "execute_result"
    }
   ],
   "source": [
    "f2"
   ]
  },
  {
   "cell_type": "code",
   "execution_count": 122,
   "id": "95b0f1ae",
   "metadata": {},
   "outputs": [
    {
     "data": {
      "text/plain": [
       "[1, 0, 0, 1]"
      ]
     },
     "execution_count": 122,
     "metadata": {},
     "output_type": "execute_result"
    }
   ],
   "source": [
    "s1"
   ]
  },
  {
   "cell_type": "code",
   "execution_count": 118,
   "id": "a70a2515",
   "metadata": {},
   "outputs": [
    {
     "data": {
      "text/plain": [
       "[0, 0, 1]"
      ]
     },
     "execution_count": 118,
     "metadata": {},
     "output_type": "execute_result"
    }
   ],
   "source": [
    "s2"
   ]
  },
  {
   "cell_type": "code",
   "execution_count": 125,
   "id": "efac71c1",
   "metadata": {},
   "outputs": [
    {
     "data": {
      "text/plain": [
       "[1, 0, 0, 1, [0, 0, 1], [0, 0, 1], [0, 0, 1], [0, 0, 1]]"
      ]
     },
     "execution_count": 125,
     "metadata": {},
     "output_type": "execute_result"
    }
   ],
   "source": [
    "f1.append(s2)\n",
    "f1"
   ]
  },
  {
   "cell_type": "code",
   "execution_count": null,
   "id": "ef9311dd",
   "metadata": {},
   "outputs": [],
   "source": []
  }
 ],
 "metadata": {
  "interpreter": {
   "hash": "6ad3079347fba6c886232796fe3303bbf19f953f3d3124b34f046b97968f5626"
  },
  "kernelspec": {
   "display_name": "Python 3",
   "language": "python",
   "name": "python3"
  },
  "language_info": {
   "codemirror_mode": {
    "name": "ipython",
    "version": 3
   },
   "file_extension": ".py",
   "mimetype": "text/x-python",
   "name": "python",
   "nbconvert_exporter": "python",
   "pygments_lexer": "ipython3",
   "version": "3.8.8"
  }
 },
 "nbformat": 4,
 "nbformat_minor": 5
}
